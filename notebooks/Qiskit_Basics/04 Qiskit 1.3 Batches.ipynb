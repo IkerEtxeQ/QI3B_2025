{
 "cells": [
  {
   "cell_type": "code",
   "execution_count": 1,
   "id": "e1eb4977-feba-4ade-a838-6dda9baa768f",
   "metadata": {},
   "outputs": [],
   "source": [
    "import numpy as np\n",
    "\n",
    "import matplotlib.pyplot as plt\n",
    "\n",
    "from qiskit import QuantumCircuit, QuantumRegister, ClassicalRegister\n",
    "from qiskit.primitives import StatevectorSampler\n",
    "from qiskit.transpiler.preset_passmanagers import generate_preset_pass_manager\n",
    "\n",
    "from qiskit.visualization import plot_histogram\n",
    "\n",
    "from qiskit_ibm_runtime import QiskitRuntimeService, Batch, SamplerV2 as Sampler"
   ]
  },
  {
   "cell_type": "markdown",
   "id": "ade83515-b6b9-47da-9491-d08cadd6fe16",
   "metadata": {},
   "source": [
    "## 1) Preparation"
   ]
  },
  {
   "cell_type": "markdown",
   "id": "757fe2a8-f73f-460f-9b5c-3bf8771959db",
   "metadata": {},
   "source": [
    "### 1.1) Parametrization"
   ]
  },
  {
   "cell_type": "code",
   "execution_count": 2,
   "id": "0abe1a57-4c75-4cee-bd84-46be6264cc42",
   "metadata": {},
   "outputs": [],
   "source": [
    "n_circuits = 9\n",
    "batch_size = 3 # Must be a factor of n_circuits\n",
    "\n",
    "shots = 1024\n",
    "\n",
    "optimization_level = 0\n",
    "\n",
    "token = \"\"\n",
    "channel = \"ibm_quantum\"\n",
    "instance = \"ibm-q/open/main\""
   ]
  },
  {
   "cell_type": "markdown",
   "id": "a38407f8-36ea-4bdf-92fd-226708e25b32",
   "metadata": {},
   "source": [
    "### 1.2) Define multiple quantum circuits"
   ]
  },
  {
   "cell_type": "code",
   "execution_count": 3,
   "id": "afaaf071-b032-43b4-b2a7-543c5b20d627",
   "metadata": {},
   "outputs": [],
   "source": [
    "def build_qc(n_qubits):\n",
    "    \n",
    "    qr = QuantumRegister(n_qubits, \"q\")\n",
    "    cr = ClassicalRegister(n_qubits, \"c\")\n",
    "    \n",
    "    qc = QuantumCircuit(qr, cr)\n",
    "    \n",
    "    qc.h(0)\n",
    "    for i in range(n_qubits-1):\n",
    "        qc.cx(i, i+1)\n",
    "\n",
    "    qc.barrier()\n",
    "    \n",
    "    for i in range(n_qubits):\n",
    "        qc.measure(i, i)\n",
    "\n",
    "    return qc"
   ]
  },
  {
   "cell_type": "code",
   "execution_count": 4,
   "id": "a9632e16-2858-49ea-9813-d94736a66602",
   "metadata": {},
   "outputs": [],
   "source": [
    "qc_list = []\n",
    "\n",
    "for i in range(n_circuits):\n",
    "    qc_list.append(build_qc(i+2))"
   ]
  },
  {
   "cell_type": "markdown",
   "id": "dc698adb-50fd-4afc-ad67-93c2da2ab0db",
   "metadata": {},
   "source": [
    "### 1.3) Prepare multiple ISA circuits"
   ]
  },
  {
   "cell_type": "code",
   "execution_count": 5,
   "id": "176a2f97-b9f0-43dc-9b7c-6e40c2430167",
   "metadata": {},
   "outputs": [
    {
     "name": "stdout",
     "output_type": "stream",
     "text": [
      "Name: ibm_sherbrooke\n",
      "Version: 2\n",
      "Qubits: 127\n",
      "\n"
     ]
    }
   ],
   "source": [
    "service = QiskitRuntimeService(channel=channel, instance=instance)\n",
    "backend = service.least_busy(operational=True, min_num_qubits=n_circuits+2)\n",
    "\n",
    "print(\n",
    "    f\"Name: {backend.name}\\n\"\n",
    "    f\"Version: {backend.version}\\n\"\n",
    "    f\"Qubits: {backend.num_qubits}\\n\"\n",
    ")"
   ]
  },
  {
   "cell_type": "code",
   "execution_count": 6,
   "id": "af117327-4b95-40de-84b5-d2556e48839f",
   "metadata": {},
   "outputs": [],
   "source": [
    "target = backend.target\n",
    "\n",
    "pm = generate_preset_pass_manager(target=target, optimization_level=optimization_level)"
   ]
  },
  {
   "cell_type": "code",
   "execution_count": 7,
   "id": "f32f6403-6b35-458f-84da-a51f479a467a",
   "metadata": {},
   "outputs": [],
   "source": [
    "isa_list = []\n",
    "\n",
    "for qc in qc_list:\n",
    "    isa_list.append(pm.run(qc))"
   ]
  },
  {
   "cell_type": "markdown",
   "id": "7ceda2f1-cc8e-4415-9951-c78913acd8e2",
   "metadata": {},
   "source": [
    "## 2) Running all the circuits in one batch"
   ]
  },
  {
   "cell_type": "markdown",
   "id": "4b1318e4-a0b2-4e27-9b12-221173e59817",
   "metadata": {},
   "source": [
    "### 2.1) Separate the circuits into batches"
   ]
  },
  {
   "cell_type": "code",
   "execution_count": 8,
   "id": "f44c6211-3513-4a79-b8cd-1e0ace0e75ec",
   "metadata": {},
   "outputs": [],
   "source": [
    "batches = [isa_list[(i*batch_size):((i+1)*batch_size)] for i in range(n_circuits//batch_size)]"
   ]
  },
  {
   "cell_type": "markdown",
   "id": "28b507d8-e977-44e0-85c9-0b3a92528425",
   "metadata": {},
   "source": [
    "### 2.2) Run the batches"
   ]
  },
  {
   "cell_type": "code",
   "execution_count": 9,
   "id": "6526346b-e575-4f6b-8ff2-33912b4da713",
   "metadata": {},
   "outputs": [
    {
     "name": "stdout",
     "output_type": "stream",
     "text": [
      "Job ID:  cyt8phajj6dg008fz9p0\n",
      "Job ID:  cyt8phtq5bwg0083h4vg\n",
      "Job ID:  cyt8pja38jq0008xs0e0\n"
     ]
    }
   ],
   "source": [
    "job_ids = []\n",
    "\n",
    "with Batch(backend=backend, max_time=\"60s\"):\n",
    "    \n",
    "    sampler = Sampler()\n",
    "\n",
    "    for batch in batches:\n",
    "        job = sampler.run(batch, shots=shots)\n",
    "        job_id = job.job_id()\n",
    "        print(\"Job ID: \", job_id)\n",
    "        job_ids.append(job_id)"
   ]
  },
  {
   "cell_type": "markdown",
   "id": "a6cefb4e-4c29-4421-8786-9da7991c1591",
   "metadata": {},
   "source": [
    "## 3) Postprocessing"
   ]
  },
  {
   "cell_type": "markdown",
   "id": "a4e37024-6f86-4fc7-8d48-0e15f5e0f300",
   "metadata": {},
   "source": [
    "### 3.1) Retrieving the job from the ID"
   ]
  },
  {
   "cell_type": "code",
   "execution_count": 10,
   "id": "7c612f78-dfac-4a6b-ba35-8e7ebd4b7443",
   "metadata": {},
   "outputs": [],
   "source": [
    "job_list = [service.job(job_id) for job_id in job_ids]"
   ]
  },
  {
   "cell_type": "markdown",
   "id": "16b01243-e09e-4b48-87ab-17164d794a1f",
   "metadata": {},
   "source": [
    "### 3.2) Post-processing the results"
   ]
  },
  {
   "cell_type": "code",
   "execution_count": 11,
   "id": "ddb53e5f-d07b-4672-b7c7-20fc318f6e5b",
   "metadata": {},
   "outputs": [],
   "source": [
    "def get_hist(job_index, index):\n",
    "\n",
    "    result = job_list[job_index].result()\n",
    "\n",
    "    try:\n",
    "        counts = result[index].data.c.array\n",
    "    except:\n",
    "        counts = result[index][\"__value__\"][\"data\"][\"c\"].array\n",
    "    \n",
    "    hist = {}\n",
    "    \n",
    "    for i in range(len(counts)):\n",
    "    \n",
    "        x_binary = \"\".join([bin(counts[i][j])[2:] for j in range(len(counts[i]))]).zfill(job_index*batch_size+index+2)\n",
    "    \n",
    "        hist[x_binary] = hist.get(x_binary, 0) + 1\n",
    "    \n",
    "    return hist"
   ]
  },
  {
   "cell_type": "code",
   "execution_count": 12,
   "id": "433822d4-1380-4eaf-858d-c8c0a7d7b846",
   "metadata": {},
   "outputs": [
    {
     "data": {
      "image/png": "[encoded data removed]",
      "text/plain": [
       "<Figure size 640x480 with 1 Axes>"
      ]
     },
     "execution_count": 12,
     "metadata": {},
     "output_type": "execute_result"
    }
   ],
   "source": [
    "job_index = 1\n",
    "index = 0\n",
    "\n",
    "hist = get_hist(job_index, index)\n",
    "plot_histogram(hist)"
   ]
  },
  {
   "cell_type": "code",
   "execution_count": null,
   "id": "bcf14233-1c8a-4885-8d21-d395d5c55d23",
   "metadata": {},
   "outputs": [],
   "source": []
  }
 ],
 "metadata": {
  "kernelspec": {
   "display_name": "Python 3 (ipykernel)",
   "language": "python",
   "name": "python3"
  },
  "language_info": {
   "codemirror_mode": {
    "name": "ipython",
    "version": 3
   },
   "file_extension": ".py",
   "mimetype": "text/x-python",
   "name": "python",
   "nbconvert_exporter": "python",
   "pygments_lexer": "ipython3",
   "version": "3.11.5"
  },
  "widgets": {
   "application/vnd.jupyter.widget-state+json": {
    "state": {},
    "version_major": 2,
    "version_minor": 0
   }
  }
 },
 "nbformat": 4,
 "nbformat_minor": 5
}

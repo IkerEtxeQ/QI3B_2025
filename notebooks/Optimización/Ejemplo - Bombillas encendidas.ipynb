{
 "cells": [
  {
   "cell_type": "markdown",
   "metadata": {},
   "source": [
    "### Implementación -> Ejemplo: Bombillas encendidas.\n",
    "_Tenemos 5 bombillas y buscamos la combinación que cumpla las siguientes consideraciones:_\n",
    "\n",
    "1.  *Solo pueden estar 4 bombillas encendidas.*\n",
    "2.  *Si la bombilla 1 está encendida, la 3 tiene que estar apagada.*\n"
   ]
  },
  {
   "cell_type": "code",
   "execution_count": null,
   "metadata": {},
   "outputs": [],
   "source": [
    "import utils\n",
    "dic_nodos = {\n",
    "    \"1\": 1,\n",
    "    \"2\": 2,\n",
    "    \"3\": 3,\n",
    "    \"4\": 4,\n",
    "    \"5\": 5,\n",
    "}\n",
    "\n",
    "dic_aristas = {\n",
    "    \"1\": \"3\",\n",
    "}\n",
    "\n",
    "# Crear el grafo\n",
    "utils.crear_SimpleGrafo_node_weight(dic_nodos, dic_aristas)"
   ]
  },
  {
   "cell_type": "code",
   "execution_count": null,
   "metadata": {},
   "outputs": [],
   "source": [
    "from pyqubo import Binary, Placeholder\n",
    "import utils\n",
    "\n",
    "\n",
    "# Definición de variables con Binary de PyQUBO\n",
    "X = [Binary(f'x_{i}') for i in range(5)] \n",
    "\n",
    "# Definir los coeficientes de Lagrange como Placeholders\n",
    "lambda_1 = Placeholder(\"lambda_1\")\n",
    "lambda_2 = Placeholder(\"lambda_2\")\n",
    "\n",
    "H_1R =lambda_1*(sum(X[i] for i in range(len(X)))-4)**2\n",
    "H_2R = lambda_2*((X[0]+X[2])-0.5)**2\n",
    "\n",
    "H=  H_1R + H_2R  \n",
    "# Asignar los valores de las lambdas (antes de compilar)\n",
    "lambda_dict = {\"lambda_1\": 1, \"lambda_2\": 1}\n",
    "\n",
    "utils.mostrar_matriz_hamiltoniano(H,lambda_dict=lambda_dict, eliminar_bajo_diagonal=True)\n",
    "utils.ejecucion_simulated_annealing(H, lambda_dict=lambda_dict) \n",
    "utils.visualize_energies(H, lambda_dict=lambda_dict)"
   ]
  },
  {
   "cell_type": "code",
   "execution_count": 2,
   "metadata": {},
   "outputs": [
    {
     "name": "stdout",
     "output_type": "stream",
     "text": [
      "Value of sum_omega= x_1 + x_2 + x_3 + x_4 + x_5  is of type= <class 'sympy.core.add.Add'>\n",
      "k: 1, R_k: 4.0, type(R_k): <class 'float'>\n"
     ]
    },
    {
     "ename": "TypeError",
     "evalue": "__rmul__(): incompatible function arguments. The following argument types are supported:\n    1. (self: cpp_pyqubo.Base, arg0: float) -> cpp_pyqubo.Base\n\nInvoked with: ((-4.000000 + Binary('x_5') + Binary('x_4') + Binary('x_3') + Binary('x_2') + 0.000000 + Binary('x_1')) * (-4.000000 + Binary('x_5') + Binary('x_4') + Binary('x_3') + Binary('x_2') + 0.000000 + Binary('x_1'))), lambda_1",
     "output_type": "error",
     "traceback": [
      "\u001b[31m---------------------------------------------------------------------------\u001b[39m",
      "\u001b[31mTypeError\u001b[39m                                 Traceback (most recent call last)",
      "\u001b[36mCell\u001b[39m\u001b[36m \u001b[39m\u001b[32mIn[2]\u001b[39m\u001b[32m, line 16\u001b[39m\n\u001b[32m     13\u001b[39m Rs = {\u001b[32m1\u001b[39m: \u001b[32m4.0\u001b[39m, \u001b[32m2\u001b[39m: \u001b[32m0.5\u001b[39m}\n\u001b[32m     15\u001b[39m \u001b[38;5;66;03m# 1. Generar la expresión QUBO y visualizar H^R\u001b[39;00m\n\u001b[32m---> \u001b[39m\u001b[32m16\u001b[39m qubo_expression, term_expressions = \u001b[43mutils\u001b[49m\u001b[43m.\u001b[49m\u001b[43mconstruccion_HR\u001b[49m\u001b[43m(\u001b[49m\u001b[43momegas\u001b[49m\u001b[43m,\u001b[49m\u001b[43m \u001b[49m\u001b[43mRs\u001b[49m\u001b[43m)\u001b[49m\n\u001b[32m     19\u001b[39m \u001b[38;5;66;03m# 2. Definir *valores* para los lambdas\u001b[39;00m\n\u001b[32m     20\u001b[39m lambdas_valores = {\u001b[33m\"\u001b[39m\u001b[33mlambda_1\u001b[39m\u001b[33m\"\u001b[39m: \u001b[32m1\u001b[39m, \u001b[33m\"\u001b[39m\u001b[33mlambda_2\u001b[39m\u001b[33m\"\u001b[39m: \u001b[32m1\u001b[39m}\n",
      "\u001b[36mFile \u001b[39m\u001b[32mc:\\Users\\ietxebarriao\\OneDrive - AYESA\\Documentos\\Repositorios\\QI3B_2025\\notebooks\\Optimización\\utils.py:396\u001b[39m, in \u001b[36mconstruccion_HR\u001b[39m\u001b[34m(Omega, conjunto_R)\u001b[39m\n\u001b[32m    394\u001b[39m \u001b[38;5;66;03m# 1. Construcción de la expresión simbólica (SymPy)\u001b[39;00m\n\u001b[32m    395\u001b[39m x = sp.IndexedBase(\u001b[33m\"\u001b[39m\u001b[33mx\u001b[39m\u001b[33m\"\u001b[39m)  \u001b[38;5;66;03m# Define x como una variable indexada (x_i)\u001b[39;00m\n\u001b[32m--> \u001b[39m\u001b[32m396\u001b[39m H_R = \u001b[32m0\u001b[39m  \u001b[38;5;66;03m# Inicializa el Hamiltoniano\u001b[39;00m\n\u001b[32m    397\u001b[39m terminos_HR = []  \u001b[38;5;66;03m# Lista para guardar las expresiones de cada término\u001b[39;00m\n\u001b[32m    399\u001b[39m \u001b[38;5;28;01mfor\u001b[39;00m k \u001b[38;5;129;01min\u001b[39;00m \u001b[38;5;28mrange\u001b[39m(\u001b[32m1\u001b[39m, NR + \u001b[32m1\u001b[39m):\n",
      "\u001b[31mTypeError\u001b[39m: __rmul__(): incompatible function arguments. The following argument types are supported:\n    1. (self: cpp_pyqubo.Base, arg0: float) -> cpp_pyqubo.Base\n\nInvoked with: ((-4.000000 + Binary('x_5') + Binary('x_4') + Binary('x_3') + Binary('x_2') + 0.000000 + Binary('x_1')) * (-4.000000 + Binary('x_5') + Binary('x_4') + Binary('x_3') + Binary('x_2') + 0.000000 + Binary('x_1'))), lambda_1"
     ]
    }
   ],
   "source": [
    "import utils\n",
    "# Ejemplo de uso\n",
    "\n",
    "omegas = {\n",
    "    1: [1, 2, 3, 4, 5],\n",
    "    2: [1, 3],\n",
    "}  # Índices deben coincidir con la definición de x\n",
    "\n",
    "#valores_permitidos = {0:[0,1],1:[1,2,3,4,5],2:[2], 3: [1,3,4,7,9]}\n",
    "valores_permitidos = {0:[0,1],1:[1,2,3,4,5],2:[2], 3: [1,3,4,7,9]}\n",
    "R, R_QUBO = utils.calcular_conjunto_R_multi_valor(valores_permitidos)\n",
    "\n",
    "Rs = {1: 4.0, 2: 0.5}\n",
    "\n",
    "# 1. Generar la expresión QUBO y visualizar H^R\n",
    "qubo_expression, term_expressions = utils.construccion_HR(omegas, Rs)\n",
    "\n",
    "\n",
    "# 2. Definir *valores* para los lambdas\n",
    "lambdas_valores = {\"lambda_1\": 1, \"lambda_2\": 1}\n",
    "\n",
    "# 3. Visualizar los términos con x continua\n",
    "utils.visualizar_parábolas_HR(\n",
    "    term_expressions, lambdas_valores, x_range=(-20, 20), num_points=100\n",
    ")\n",
    "\n",
    "utils.mostrar_matriz_hamiltoniano(qubo_expression,lambda_dict=lambdas_valores, eliminar_bajo_diagonal=True)\n",
    "utils.ejecucion_simulated_annealing(qubo_expression, lambda_dict=lambdas_valores) \n",
    "utils.visualize_energies(qubo_expression, lambda_dict=lambdas_valores)"
   ]
  }
 ],
 "metadata": {
  "kernelspec": {
   "display_name": ".venv",
   "language": "python",
   "name": "python3"
  },
  "language_info": {
   "codemirror_mode": {
    "name": "ipython",
    "version": 3
   },
   "file_extension": ".py",
   "mimetype": "text/x-python",
   "name": "python",
   "nbconvert_exporter": "python",
   "pygments_lexer": "ipython3",
   "version": "3.12.9"
  }
 },
 "nbformat": 4,
 "nbformat_minor": 2
}

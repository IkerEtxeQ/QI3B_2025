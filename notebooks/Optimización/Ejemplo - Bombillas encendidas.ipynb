{
 "cells": [
  {
   "cell_type": "markdown",
   "metadata": {},
   "source": [
    "### Implementación -> Ejemplo: Bombillas encendidas.\n",
    "_Tenemos 5 bombillas y buscamos la combinación que cumpla las siguientes consideraciones:_\n",
    "\n",
    "1.  *Solo pueden estar 4 bombillas encendidas.*\n",
    "2.  *Si la bombilla 1 está encendida, la 3 tiene que estar apagada.*\n"
   ]
  },
  {
   "cell_type": "code",
   "execution_count": null,
   "metadata": {},
   "outputs": [],
   "source": [
    "import utils\n",
    "dic_nodos = {\n",
    "    \"1\": 1,\n",
    "    \"2\": 2,\n",
    "    \"3\": 3,\n",
    "    \"4\": 4,\n",
    "    \"5\": 5,\n",
    "}\n",
    "\n",
    "dic_aristas = {\n",
    "    \"1\": \"3\",\n",
    "}\n",
    "\n",
    "# Crear el grafo\n",
    "utils.crear_SimpleGrafo_node_weight(dic_nodos, dic_aristas)"
   ]
  },
  {
   "cell_type": "code",
   "execution_count": null,
   "metadata": {},
   "outputs": [],
   "source": [
    "from pyqubo import Binary, Placeholder\n",
    "import utils\n",
    "\n",
    "\n",
    "# Definición de variables con Binary de PyQUBO\n",
    "X = [Binary(f'x_{i}') for i in range(5)] \n",
    "\n",
    "# Definir los coeficientes de Lagrange como Placeholders\n",
    "lambda_1 = Placeholder(\"lambda_1\")\n",
    "lambda_2 = Placeholder(\"lambda_2\")\n",
    "\n",
    "H_1R =lambda_1*(sum(X[i] for i in range(len(X)))-4)**2\n",
    "H_2R = lambda_2*((X[0]+X[2])-0.5)**2\n",
    "\n",
    "H=  H_1R + H_2R  \n",
    "# Asignar los valores de las lambdas (antes de compilar)\n",
    "lambda_dict = {\"lambda_1\": 1, \"lambda_2\": 1}\n",
    "\n",
    "utils.mostrar_matriz_hamiltoniano(H,lambda_dict=lambda_dict, eliminar_bajo_diagonal=True)\n",
    "utils.ejecucion_simulated_annealing(H, lambda_dict=lambda_dict) \n",
    "utils.visualize_energies(H, lambda_dict=lambda_dict)"
   ]
  },
  {
   "cell_type": "code",
   "execution_count": null,
   "metadata": {},
   "outputs": [],
   "source": [
    "import utils\n",
    "# Ejemplo de uso\n",
    "NR = 2\n",
    "\n",
    "omegas = {\n",
    "    1: [1, 2, 3, 4, 5],\n",
    "    2: [1, 3],\n",
    "}  # Índices deben coincidir con la definición de x\n",
    "Rs = {1: 4.0, 2: 0.5}\n",
    "\n",
    "# 1. Generar la expresión QUBO y visualizar H^R\n",
    "qubo_expression, term_expressions = utils.construccion_HR(NR, omegas, Rs)\n",
    "\n",
    "# 2. Definir *valores* para los lambdas\n",
    "lambdas_valores = {\"lambda_1\": 1, \"lambda_2\": 1}\n",
    "\n",
    "# 3. Visualizar los términos con x continua\n",
    "utils.visualizar_parábolas_HR(\n",
    "    term_expressions, lambdas_valores, x_range=(-20, 20), num_points=100\n",
    ")\n",
    "\n",
    "utils.mostrar_matriz_hamiltoniano(qubo_expression,lambda_dict=lambdas_valores, eliminar_bajo_diagonal=True)\n",
    "utils.ejecucion_simulated_annealing(qubo_expression, lambda_dict=lambdas_valores) \n",
    "utils.visualize_energies(qubo_expression, lambda_dict=lambdas_valores)"
   ]
  }
 ],
 "metadata": {
  "kernelspec": {
   "display_name": ".venv",
   "language": "python",
   "name": "python3"
  },
  "language_info": {
   "codemirror_mode": {
    "name": "ipython",
    "version": 3
   },
   "file_extension": ".py",
   "mimetype": "text/x-python",
   "name": "python",
   "nbconvert_exporter": "python",
   "pygments_lexer": "ipython3",
   "version": "3.12.9"
  }
 },
 "nbformat": 4,
 "nbformat_minor": 2
}

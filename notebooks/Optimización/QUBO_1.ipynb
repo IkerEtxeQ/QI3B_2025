{
 "cells": [
  {
   "cell_type": "markdown",
   "metadata": {},
   "source": [
    "\n",
    "## Scripts QUBO \n",
    "Este cuaderno, reune código básico para ejecutar problemas QUBO (Quadratic Unconstrained Binary Optimization) en ordenadores cuánticos de annealing, como D-Wave. Se utilizan las bibliotecas `pyqubo` y `neal` para definir y resolver estos problemas. \n",
    "\n",
    "A continuación, se muestra un ejemplo de cómo definir un problema QUBO, compilarlo, convertirlo a un modelo binario cuadrático y resolverlo utilizando un simulador de annealing simulado."
   ]
  },
  {
   "cell_type": "code",
   "execution_count": null,
   "metadata": {},
   "outputs": [
    {
     "name": "stdout",
     "output_type": "stream",
     "text": [
      "DecodedSolution({a:1, b:1}, energy=-3,000000)\n",
      "{'a': 1, 'b': 1}\n",
      "-3.0\n",
      "{}\n"
     ]
    }
   ],
   "source": [
    "import neal\n",
    "from pyqubo import Binary\n",
    "\n",
    "a, b = Binary('a'), Binary('b')\n",
    "H = 2*a +3*b*a -2*(a*b+1)**2\n",
    "model = H.compile()\n",
    "bqm = model.to_bqm()\n",
    "sampler = neal.SimulatedAnnealingSampler()\n",
    "sampleset = sampler.sample(bqm, num_reads=10)\n",
    "decoded_samples = model.decode_sampleset(sampleset)\n",
    "best_sample = min(decoded_samples, key=lambda x: x.energy)\n",
    "print(best_sample.sample)\n",
    "print(best_sample.energy)\n",
    "print(best_sample.constraints())"
   ]
  }
 ],
 "metadata": {
  "kernelspec": {
   "display_name": ".venv",
   "language": "python",
   "name": "python3"
  },
  "language_info": {
   "codemirror_mode": {
    "name": "ipython",
    "version": 3
   },
   "file_extension": ".py",
   "mimetype": "text/x-python",
   "name": "python",
   "nbconvert_exporter": "python",
   "pygments_lexer": "ipython3",
   "version": "3.12.9"
  }
 },
 "nbformat": 4,
 "nbformat_minor": 2
}
